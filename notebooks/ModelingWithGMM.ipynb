{
 "cells": [
  {
   "cell_type": "code",
   "execution_count": 1,
   "id": "5c9e7adf",
   "metadata": {},
   "outputs": [],
   "source": [
    "import librosa\n",
    "import sys\n",
    "import pathlib\n",
    "\n",
    "ROOT = pathlib.Path(\".\").absolute().parent\n",
    "sys.path.append(str(ROOT))\n"
   ]
  },
  {
   "cell_type": "code",
   "execution_count": null,
   "id": "a1d1c0ef",
   "metadata": {},
   "outputs": [],
   "source": []
  },
  {
   "cell_type": "code",
   "execution_count": 23,
   "id": "b4550be4",
   "metadata": {},
   "outputs": [],
   "source": [
    "from utils.metrics import (\n",
    "    plot_classification_report,\n",
    "    print_scores\n",
    ")\n",
    "import os\n",
    "import pickle\n",
    "from datasets.SPCUP22DataModule import SPCUP22DataModule\n",
    "from features.audio import MFCC\n",
    "from utils.config import load_config_file\n",
    "from torchvision.transforms import Compose\n",
    "from tqdm import tqdm\n",
    "import numpy as np\n",
    "\n",
    "import numpy as np\n",
    "from sklearn.mixture import GaussianMixture"
   ]
  },
  {
   "cell_type": "code",
   "execution_count": 4,
   "id": "db214f31",
   "metadata": {},
   "outputs": [],
   "source": [
    "# Batch size and other constant\n",
    "batch_size = 128"
   ]
  },
  {
   "cell_type": "code",
   "execution_count": 6,
   "id": "5187879d",
   "metadata": {},
   "outputs": [
    {
     "name": "stdout",
     "output_type": "stream",
     "text": [
      "Skipping downloading [/u/20/hassans4/data/Documents/postdoctoral/colab/spcup22/repository/SPCUP2022/data/spcup22/spcup_2022_training_part1.zip]...\n",
      "Skipping downloading [/u/20/hassans4/data/Documents/postdoctoral/colab/spcup22/repository/SPCUP2022/data/spcup22/spcup_2022_unseen.zip]...\n",
      "Skipping downloading [/u/20/hassans4/data/Documents/postdoctoral/colab/spcup22/repository/SPCUP2022/data/spcup22/spcup_2022_eval_part1.zip]...\n"
     ]
    }
   ],
   "source": [
    "# Download and load the data\n",
    "data_module = SPCUP22DataModule(\n",
    "    batch_size=batch_size,\n",
    "    dataset_root=str(ROOT.joinpath(\"data\", \"spcup22\").absolute()),\n",
    "    \n",
    ")\n",
    "data_module.prepare_data()\n",
    "data_module.setup()\n",
    "train_loader = data_module.train_dataloader()\n",
    "test_dataloader = data_module.test_dataloader()"
   ]
  },
  {
   "cell_type": "code",
   "execution_count": 10,
   "id": "ede0b8f1",
   "metadata": {},
   "outputs": [
    {
     "data": {
      "text/plain": [
       "3600"
      ]
     },
     "execution_count": 10,
     "metadata": {},
     "output_type": "execute_result"
    }
   ],
   "source": [
    "len(train_loader.dataset)"
   ]
  },
  {
   "cell_type": "code",
   "execution_count": 19,
   "id": "b4524620",
   "metadata": {},
   "outputs": [],
   "source": [
    "# Load data in batch and convert to features\n",
    "nsamples = len(train_loader.dataset)\n",
    "nfeatures = 188\n",
    "train_labels = np.zeros((nsamples,))\n",
    "train_features =  np.zeros((nsamples, nfeatures))\n",
    "sample_index = 0\n",
    "\n",
    "for batch in train_loader:\n",
    "    batch_samples, batch_labels = batch\n",
    "    ys = batch_samples.cpu().detach().numpy()\n",
    "    labels = batch_labels.cpu().detach().numpy()\n",
    "    \n",
    "    for idx, y in enumerate(ys):\n",
    "        feature = librosa.feature.spectral_centroid(y=y, sr=22050)\n",
    "        feature = np.squeeze(feature)\n",
    "        \n",
    "        train_labels[sample_index] = labels[idx]\n",
    "        train_features[sample_index, :] = feature\n",
    "        sample_index = sample_index + 1\n",
    "    \n",
    "    \n",
    "    \n"
   ]
  },
  {
   "cell_type": "code",
   "execution_count": 24,
   "id": "74a49481",
   "metadata": {},
   "outputs": [],
   "source": [
    "gm = GaussianMixture(n_components=6, random_state=0).fit(train_features)"
   ]
  },
  {
   "cell_type": "code",
   "execution_count": 26,
   "id": "168d1570",
   "metadata": {},
   "outputs": [
    {
     "data": {
      "text/plain": [
       "array([3., 0., 1., 0., 4., 3., 1., 0., 3., 2.])"
      ]
     },
     "execution_count": 26,
     "metadata": {},
     "output_type": "execute_result"
    }
   ],
   "source": [
    "train_labels[0:10]"
   ]
  },
  {
   "cell_type": "code",
   "execution_count": 25,
   "id": "472cfb1e",
   "metadata": {},
   "outputs": [
    {
     "data": {
      "text/plain": [
       "array([5, 1, 4, 2, 1, 3, 0, 1, 5, 5])"
      ]
     },
     "execution_count": 25,
     "metadata": {},
     "output_type": "execute_result"
    }
   ],
   "source": [
    "gm.predict(train_features[0:10, : ])"
   ]
  },
  {
   "cell_type": "code",
   "execution_count": 27,
   "id": "dcef3402",
   "metadata": {},
   "outputs": [
    {
     "data": {
      "text/plain": [
       "array([[2.69452782e-043, 1.75402438e-031, 3.95125867e-089,\n",
       "        1.49740514e-044, 1.35373142e-030, 1.00000000e+000],\n",
       "       [1.42659146e-037, 1.00000000e+000, 8.25606368e-075,\n",
       "        2.76978741e-034, 3.58225337e-059, 2.21478451e-047],\n",
       "       [2.23676889e-037, 1.33574786e-019, 9.85856311e-072,\n",
       "        2.30033069e-045, 1.00000000e+000, 1.98851066e-046],\n",
       "       [4.04848333e-063, 4.87791239e-031, 1.00000000e+000,\n",
       "        1.51423004e-060, 2.33765700e-100, 5.75762456e-094],\n",
       "       [3.65984757e-013, 9.99877031e-001, 1.22969222e-004,\n",
       "        2.17232166e-010, 6.11462775e-014, 2.35119024e-019],\n",
       "       [2.65462343e-028, 1.26147056e-022, 3.01845915e-084,\n",
       "        1.00000000e+000, 4.48898854e-056, 4.55935158e-071],\n",
       "       [1.00000000e+000, 5.50196494e-017, 1.14395997e-060,\n",
       "        7.83997177e-023, 9.65077231e-024, 7.65334363e-036],\n",
       "       [1.14029538e-027, 1.00000000e+000, 1.09011271e-069,\n",
       "        4.89669867e-011, 3.92484513e-022, 1.17077825e-035],\n",
       "       [2.77463816e-021, 1.74491119e-016, 1.12510537e-086,\n",
       "        1.04959428e-033, 2.94613828e-059, 1.00000000e+000],\n",
       "       [1.18847239e-051, 4.87078653e-038, 8.47869747e-136,\n",
       "        2.63538839e-053, 1.13511655e-057, 1.00000000e+000]])"
      ]
     },
     "execution_count": 27,
     "metadata": {},
     "output_type": "execute_result"
    }
   ],
   "source": [
    "gm.predict_proba(train_features[0:10, : ])"
   ]
  }
 ],
 "metadata": {
  "kernelspec": {
   "display_name": "Python 3 (ipykernel)",
   "language": "python",
   "name": "python3"
  },
  "language_info": {
   "codemirror_mode": {
    "name": "ipython",
    "version": 3
   },
   "file_extension": ".py",
   "mimetype": "text/x-python",
   "name": "python",
   "nbconvert_exporter": "python",
   "pygments_lexer": "ipython3",
   "version": "3.7.11"
  }
 },
 "nbformat": 4,
 "nbformat_minor": 5
}
